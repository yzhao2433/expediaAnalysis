{
 "cells": [
  {
   "cell_type": "code",
   "execution_count": 9,
   "metadata": {},
   "outputs": [],
   "source": [
    "import pandas as pd\n",
    "from sklearn.model_selection import train_test_split"
   ]
  },
  {
   "cell_type": "code",
   "execution_count": 10,
   "metadata": {},
   "outputs": [],
   "source": [
    "test_df = pd.read_csv(\"test.csv\")\n",
    "train_df = pd.read_csv(\"train.csv\")"
   ]
  },
  {
   "cell_type": "code",
   "execution_count": 11,
   "metadata": {},
   "outputs": [
    {
     "name": "stdout",
     "output_type": "stream",
     "text": [
      "Prior to removal of the rows with at least 1 NaN, there are 9917530 rows in the train set.\n",
      "Prior to removal of the rows with at least 1 NaN, there are 6622629 rows in the test set.\n",
      "After removal of the rows with at least 1 NaN, there are 506858 rows in the train set.\n",
      "After removal of the rows with at least 1 NaN, there are 342044 rows in the test set.\n"
     ]
    }
   ],
   "source": [
    "print (f\"Prior to removal of the rows with at least 1 NaN, there are {train_df.shape[0]} rows in the train set.\")\n",
    "print (f\"Prior to removal of the rows with at least 1 NaN, there are {test_df.shape[0]} rows in the test set.\")\n",
    "vars_used = [\"srch_id\",\n",
    "             # user info\n",
    "             'visitor_location_country_id', 'visitor_hist_adr_usd', \n",
    "             # property info\n",
    "             'prop_id','prop_country_id','prop_review_score', 'price_usd',\n",
    "             'prop_log_historical_price', \n",
    "             # user search info\n",
    "             'date_time','srch_length_of_stay', 'srch_booking_window', \n",
    "             'srch_adults_count', 'srch_children_count', 'srch_destination_id',\n",
    "             'srch_room_count']\n",
    "train_cleaned_df = train_df.loc[:,vars_used].dropna(how=\"any\", axis = 0)\n",
    "test_cleaned_df = test_df.loc[:,vars_used].dropna(how=\"any\", axis = 0)\n",
    "print (f\"After removal of the rows with at least 1 NaN, there are {train_cleaned_df.shape[0]} rows in the train set.\")\n",
    "print (f\"After removal of the rows with at least 1 NaN, there are {test_cleaned_df.shape[0]} rows in the test set.\")"
   ]
  },
  {
   "cell_type": "code",
   "execution_count": 12,
   "metadata": {},
   "outputs": [],
   "source": [
    "train_cleaned_df.to_csv('train_reduced.csv')\n",
    "test_cleaned_df.to_csv('test_reduced.csv')"
   ]
  }
 ],
 "metadata": {
  "kernelspec": {
   "display_name": "info2950",
   "language": "python",
   "name": "python3"
  },
  "language_info": {
   "codemirror_mode": {
    "name": "ipython",
    "version": 3
   },
   "file_extension": ".py",
   "mimetype": "text/x-python",
   "name": "python",
   "nbconvert_exporter": "python",
   "pygments_lexer": "ipython3",
   "version": "3.11.4"
  }
 },
 "nbformat": 4,
 "nbformat_minor": 2
}
